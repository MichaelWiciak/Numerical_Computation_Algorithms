{
 "cells": [
  {
   "cell_type": "code",
   "execution_count": 1,
   "id": "a03cd31e-6daf-446f-9114-659f5427391b",
   "metadata": {},
   "outputs": [],
   "source": [
    "def newton(f, df, x0, tol):\n",
    "    x = x0\n",
    "    y = f(x)\n",
    "    it = 0\n",
    "    while abs(y) > tol:   # iterate until less than or eq tol\n",
    "        x = x - y / df(x)  # apply one Newton iteration\n",
    "        y = f(x)           # reevaluate f at new estimate\n",
    "        it = it + 1\n",
    "\n",
    "    return x, it\n",
    "\n",
    "    \n",
    "def bisection(f, x0, x1, tol):\n",
    "    it = 0\n",
    "    x = (x0 + x1)/2.0\n",
    "    while abs(f(x)) > tol:\n",
    "        it = it +1\n",
    "        x = (x0 + x1)/2.0\n",
    "        #if abs(x) < 1.e-6: return x\n",
    "        if f(x)*f(x0) < 0:\n",
    "            x1 = x\n",
    "        else:\n",
    "            x0 = x       \n",
    "\n",
    "    return x, it"
   ]
  },
  {
   "cell_type": "code",
   "execution_count": 19,
   "id": "4ba24763",
   "metadata": {},
   "outputs": [
    {
     "name": "stdout",
     "output_type": "stream",
     "text": [
      "0  Relative Error:  4999999.0\n",
      "1  Relative Error:  2499999.0\n",
      "2  Relative Error:  1249999.0\n",
      "3  Relative Error:  624999.0\n",
      "4  Relative Error:  312499.0\n",
      "5  Relative Error:  156249.0\n",
      "6  Relative Error:  78124.0\n",
      "7  Relative Error:  39061.5\n",
      "8  Relative Error:  19530.25\n",
      "9  Relative Error:  9764.625\n",
      "10  Relative Error:  4881.8125\n",
      "11  Relative Error:  2440.40625\n",
      "12  Relative Error:  1219.703125\n",
      "13  Relative Error:  609.3515625\n",
      "14  Relative Error:  304.17578125\n",
      "15  Relative Error:  151.58789062500003\n",
      "16  Relative Error:  75.2939453125\n",
      "17  Relative Error:  37.14697265625\n",
      "18  Relative Error:  18.073486328125\n",
      "19  Relative Error:  8.5367431640625\n",
      "20  Relative Error:  3.7683715820312504\n",
      "21  Relative Error:  1.384185791015625\n",
      "22  Relative Error:  0.19209289550781253\n",
      "(1.1920928955078126e-08, 22)\n",
      "\n",
      "1  Relative Error:  1.6543612251060553e-16\n",
      "(9.999999999999999e-09, 1)\n"
     ]
    }
   ],
   "source": [
    "x0 = 0\n",
    "x1 = 0.1\n",
    "m = 10**8\n",
    "tol = 0.5\n",
    "\n",
    "def f(x):\n",
    "    m = 10**8\n",
    "    return x**2 - x*(m + 1/m)+1\n",
    "\n",
    "def bisection(f, x0, x1, tol, m): # Note testing the first bracket does not count as an iteration\n",
    "    # but there are 'it' evaluations\n",
    "    it = 0\n",
    "    x = (x0 + x1)/2.0\n",
    "    while abs(f(x)) > tol:  \n",
    "        x = (x0 + x1)/2.0\n",
    "        #if abs(x) < 1.e-6: return x, it # no need for this line\n",
    "        if f(x)*f(x0) < 0:\n",
    "            x1 = x\n",
    "        else:\n",
    "            x0 = x       \n",
    "        rE = abs((abs(x) - 1/m))/(1/m)\n",
    "        print(it, \" Relative Error: \", rE) # because iteration 1 doesnt count for some reason?????\n",
    "        it = it +1\n",
    "        \n",
    "    return x, it-1\n",
    "\n",
    "print(bisection(f, x0, x1, tol, m))\n",
    "print()\n",
    "\n",
    "def newton(f, df, x0, tol):\n",
    "    x = x0\n",
    "    y = f(x)\n",
    "    it = 0\n",
    "    while abs(y) > tol:   # iterate until less than or eq tol\n",
    "        x = x - y / df(x)  # apply one Newton iteration\n",
    "        y = f(x)           # reevaluate f at new estimate\n",
    "        it = it + 1\n",
    "        rE = abs((abs(x) - 1/m))/(1/m)\n",
    "        print(it, \" Relative Error: \", rE)\n",
    "\n",
    "    return x, it\n",
    "\n",
    "\n",
    "def df(x):\n",
    "    m = 10**8\n",
    "    return 2*x-(m+1/m)\n",
    "\n",
    "print(newton(f, df, 0, tol))\n",
    "\n"
   ]
  },
  {
   "cell_type": "code",
   "execution_count": 4,
   "id": "8d803e00-114b-4e80-82fd-b615e6f713f6",
   "metadata": {},
   "outputs": [
    {
     "name": "stdout",
     "output_type": "stream",
     "text": [
      "Newton method: 1.2599210498953948 after 5 iterations\n",
      "Bisection method: 1.2599210739135742 after 21 iterations\n"
     ]
    }
   ],
   "source": [
    "import numpy as np\n",
    "\n",
    "def f(t):\n",
    "    return t*t*t - 2.0\n",
    "\n",
    "def df(t):\n",
    "    return 3.*t*t\n",
    "\n",
    "\n",
    "x, it = newton(f, df, 2.0, 1.e-6)\n",
    "print(f\"Newton method: {x} after {it} iterations\")\n",
    "np.testing.assert_allclose(abs(f(x)), 0.0, atol=1.0e-6)\n",
    "\n",
    "x, it = bisection(f, 0.0, 2.0, 1.e-6)\n",
    "print(f\"Bisection method: {x} after {it} iterations\")\n",
    "np.testing.assert_allclose(abs(f(x)), 0.0, atol=1.0e-6)"
   ]
  },
  {
   "cell_type": "code",
   "execution_count": null,
   "id": "298d3b6b-fe02-4d2c-a7c3-ad293ea590ab",
   "metadata": {},
   "outputs": [],
   "source": []
  }
 ],
 "metadata": {
  "kernelspec": {
   "display_name": "Python 3",
   "language": "python",
   "name": "python3"
  },
  "language_info": {
   "codemirror_mode": {
    "name": "ipython",
    "version": 3
   },
   "file_extension": ".py",
   "mimetype": "text/x-python",
   "name": "python",
   "nbconvert_exporter": "python",
   "pygments_lexer": "ipython3",
   "version": "3.8.8"
  }
 },
 "nbformat": 4,
 "nbformat_minor": 5
}
