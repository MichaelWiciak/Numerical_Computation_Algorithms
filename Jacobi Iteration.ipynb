{
 "cells": [
  {
   "cell_type": "code",
   "execution_count": null,
   "id": "343fbdec-e94a-4740-b96a-ebe2fda2df64",
   "metadata": {},
   "outputs": [],
   "source": [
    "def Jacobi_iteration(A, b, max_iteration, x0 = None):\n",
    "    # we should take care to ensure that arrays are stored with the correct type - float!\n",
    "    A = A.astype(np.float64)\n",
    "    b = b.astype(np.float64)\n",
    "     \n",
    "    # check sizes of A and b match appropriately\n",
    "    nb=len(b)\n",
    "    n, m = A.shape\n",
    "    if n != m:\n",
    "        raise ValueError(f'A is not a square matrix! {A.shape}')\n",
    "    if n != nb:\n",
    "        raise ValueError(f'shapes of A and b do not match! {A.shape} {b.shape}')\n",
    "\n",
    "    # check diagonal is non zero\n",
    "    for i in range(n):\n",
    "        if np.isclose(A[i, i], 0):\n",
    "            raise ValueError(f'A[{i}, {i}] is zero')\n",
    "\n",
    "    # construct iteration matrices\n",
    "    P=np.zeros([n,n])    # matrix P = D^{-1}(L+U)\n",
    "    p=np.zeros(n)        # vector p = D^{-1} b\n",
    "    for i in range(n):\n",
    "        p[i]=b[i]/A[i,i] \n",
    "        for j in range(n):\n",
    "             P[i,j] = A[i,j]/A[i,i]\n",
    "        P[i,i] = 0\n",
    "        \n",
    "    #create a new array to store the results, initialised as zero\n",
    "    if x0 is None:\n",
    "        x = np.zeros_like(b)\n",
    "    else:\n",
    "        x = x0.copy()\n",
    "    \n",
    "    # perform iteration x <- p - P * x\n",
    "    for it in range(max_iteration):\n",
    "        xnew = np.empty_like(x)\n",
    "        for i in range(n):\n",
    "            xnew[i] = p[i]\n",
    "            for j in range(n):\n",
    "                xnew[i] -= P[i, j] * x[j]\n",
    "        x = xnew.copy()\n",
    "                \n",
    "    return x"
   ]
  },
  {
   "cell_type": "code",
   "execution_count": null,
   "id": "e357ebc7-32a3-4885-a1a2-6fd343864961",
   "metadata": {},
   "outputs": [],
   "source": [
    "#Testing using this \n",
    "# numpy linear solver\n",
    "x0 = np.linalg.solve(A,b)\n",
    "print(\"Solution by numpy solver:\", x0)\n",
    "\n",
    "x = Jacobi_iteration(A, b, 4)\n",
    "print(\"Solution by Jacobi iteration: \",x)\n",
    "print(\"Error: \", x - x_exact)\n",
    "print(\"Residual: \", np.matmul(A,x)-b)"
   ]
  },
  {
   "cell_type": "code",
   "execution_count": null,
   "id": "451813ff-1ac7-4643-a7ee-a7b9b045ec5f",
   "metadata": {},
   "outputs": [],
   "source": [
    "import numpy as np\n",
    "\n",
    "def jacobi_iteration(A, b, x0, tol=1e-6, max_iter=100):\n",
    "    n = A.shape[0]\n",
    "    D = np.diag(A)\n",
    "    R = A - np.diagflat(D)\n",
    "    x = x0\n",
    "    for i in range(max_iter):\n",
    "        x_new = (b - np.dot(R, x))/D\n",
    "        if np.allclose(x, x_new, rtol=tol):\n",
    "            return x_new\n",
    "        x = x_new\n",
    "    raise ValueError(\"Jacobi iteration did not converge\")\n"
   ]
  }
 ],
 "metadata": {
  "kernelspec": {
   "display_name": "Python 3",
   "language": "python",
   "name": "python3"
  },
  "language_info": {
   "codemirror_mode": {
    "name": "ipython",
    "version": 3
   },
   "file_extension": ".py",
   "mimetype": "text/x-python",
   "name": "python",
   "nbconvert_exporter": "python",
   "pygments_lexer": "ipython3",
   "version": "3.8.8"
  }
 },
 "nbformat": 4,
 "nbformat_minor": 5
}
