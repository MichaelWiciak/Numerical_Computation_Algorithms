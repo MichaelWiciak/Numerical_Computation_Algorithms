{
 "cells": [
  {
   "cell_type": "code",
   "execution_count": 25,
   "id": "de96f275-9fe9-491d-8abd-b22a30a3e41a",
   "metadata": {},
   "outputs": [
    {
     "name": "stdout",
     "output_type": "stream",
     "text": [
      "[0.   0.01 0.02 0.03 0.04 0.05 0.06 0.07 0.08 0.09 0.1  0.11 0.12 0.13\n",
      " 0.14 0.15 0.16 0.17 0.18 0.19 0.2  0.21 0.22 0.23 0.24 0.25 0.26 0.27\n",
      " 0.28 0.29 0.3  0.31 0.32 0.33 0.34 0.35 0.36 0.37 0.38 0.39 0.4  0.41\n",
      " 0.42 0.43 0.44 0.45 0.46 0.47 0.48 0.49 0.5  0.51 0.52 0.53 0.54 0.55\n",
      " 0.56 0.57 0.58 0.59 0.6  0.61 0.62 0.63 0.64 0.65 0.66 0.67 0.68 0.69\n",
      " 0.7  0.71 0.72 0.73 0.74 0.75 0.76 0.77 0.78 0.79 0.8  0.81 0.82 0.83\n",
      " 0.84 0.85 0.86 0.87 0.88 0.89 0.9  0.91 0.92 0.93 0.94 0.95 0.96 0.97\n",
      " 0.98 0.99 1.  ] [1.         1.01       1.019801   1.02940301 1.03880604 1.0480101\n",
      " 1.0570152  1.06582135 1.07442857 1.08283685 1.09104622 1.09905668\n",
      " 1.10686825 1.11448093 1.12189474 1.12910969 1.13612579 1.14294304\n",
      " 1.14956147 1.15598109 1.1622019  1.16822392 1.17404716 1.17967163\n",
      " 1.18509735 1.19032432 1.19535256 1.20018209 1.20481291 1.20924504\n",
      " 1.21347849 1.21751327 1.22134941 1.2249869  1.22842577 1.23166603\n",
      " 1.23470769 1.23755076 1.24019527 1.24264123 1.24488864 1.24693752\n",
      " 1.2487879  1.25043978 1.25189318 1.25314811 1.25420459 1.25506263\n",
      " 1.25572226 1.25618348 1.25644632 1.25651078 1.25637689 1.25604466\n",
      " 1.2555141  1.25478525 1.2538581  1.25273268 1.25140901 1.2498871\n",
      " 1.24816697 1.24624864 1.24413212 1.24181744 1.23930462 1.23659366\n",
      " 1.2336846  1.23057745 1.22727222 1.22376894 1.22006763 1.21616831\n",
      " 1.21207099 1.2077757  1.20328246 1.19859128 1.1937022  1.18861522\n",
      " 1.18333037 1.17784768 1.17216715 1.16628882 1.16021271 1.15393884\n",
      " 1.14746723 1.1407979  1.13393088 1.12686619 1.11960385 1.11214389\n",
      " 1.10448633 1.09663119 1.0885785  1.08032829 1.07188057 1.06323538\n",
      " 1.05439273 1.04535266 1.03611518 1.02668033 1.01704814]\n"
     ]
    }
   ],
   "source": [
    "def Euler_method(t0, d0, dt, n):\n",
    "    d = np.zeros(n+1)\n",
    "    d[0] = d0\n",
    "\n",
    "    t = np.zeros(n+1)\n",
    "    for i in range(n+1):\n",
    "        t[i] = t0 + i*dt\n",
    "    \n",
    "    for i in range(1, n+1):          \n",
    "        d[i] = d[i-1] + dt * f(t[i-1], d[i-1])\n",
    "                                       \n",
    "    return t, d\n",
    "\n",
    "import numpy as np\n",
    "\n",
    "def f(t, d):\n",
    "    return t*t - 3.0*t + d\n",
    "\n",
    "\n",
    "t0 = float(0.0)\n",
    "d0 = float(1.0)\n",
    "dt = float(0.01)\n",
    "n = int(100)\n",
    "\n",
    "t, d = Euler_method(t0, d0, dt, n)\n",
    "print(t,d)"
   ]
  },
  {
   "cell_type": "raw",
   "id": "eb1961b6-a13b-4d6f-b37b-7aa7893b7d42",
   "metadata": {},
   "source": [
    "Template"
   ]
  },
  {
   "cell_type": "code",
   "execution_count": 8,
   "id": "04ea4c2d-4f37-4f86-a936-16cd1ef5a915",
   "metadata": {},
   "outputs": [
    {
     "name": "stdout",
     "output_type": "stream",
     "text": [
      "[0.   0.01 0.02 0.03] [1.         1.01       1.019801   1.02940301]\n"
     ]
    }
   ],
   "source": []
  },
  {
   "cell_type": "code",
   "execution_count": 26,
   "id": "834a2064-4428-4eac-b66a-f0ae96495a2b",
   "metadata": {},
   "outputs": [
    {
     "name": "stdout",
     "output_type": "stream",
     "text": [
      "[0.  0.5 1. ] [0.  0.5 0. ]\n"
     ]
    }
   ],
   "source": [
    "#Test \n",
    "def Euler_method(t0, d0, dt, n):\n",
    "    d = np.zeros(n+1)\n",
    "    d[0] = d0\n",
    "\n",
    "    t = np.zeros(n+1)\n",
    "    for i in range(n+1):\n",
    "        t[i] = t0 + i*dt\n",
    "    \n",
    "    for i in range(1, n+1):          \n",
    "        d[i] = d[i-1] + dt * y(t[i-1], d[i-1])\n",
    "                                       \n",
    "    return t, d\n",
    "\n",
    "def y(t, d):\n",
    "    return np.cos(2*np.pi*d)\n",
    "\n",
    "t0 = float(0) # start time\n",
    "d0 = float(0) # initial condition\n",
    "dt = float(0.5) # time step\n",
    "n = int(2) # number of steps\n",
    "\n",
    "t,d = Euler_method(t0, d0, dt, n)\n",
    "print(t,d)\n"
   ]
  },
  {
   "cell_type": "code",
   "execution_count": 49,
   "id": "f182ccab-5db7-495e-9a12-8e0879fc5d6d",
   "metadata": {},
   "outputs": [
    {
     "name": "stdout",
     "output_type": "stream",
     "text": [
      "[0.  0.5 1. ] [0. 0. 0.]\n"
     ]
    }
   ],
   "source": [
    "def midpoint_method(t0, d0, dt, n):\n",
    "    d = np.zeros(n+1)\n",
    "    d[0] = d0\n",
    "\n",
    "    t = np.zeros(n+1)\n",
    "    for i in range(n+1):\n",
    "        t[i] = t0 + i*dt\n",
    "    \n",
    "    for i in range(1, n+1):\n",
    "        d_half = d[i-1] + 0.5 * dt * y(t[i-1], d[i-1]) # change f\n",
    "        d[i] = d[i-1] + dt * y((t[i-1]+t[i])/2.0, d_half) #change f\n",
    "        if d[i]<=1e-16:\n",
    "            d[i] = 0\n",
    "                                       \n",
    "    return t, d\n",
    "\n",
    "\n",
    "def y(t, d):\n",
    "    return np.cos(2.0*np.pi*d)\n",
    "\n",
    "t0 = float(0) # start time\n",
    "d0 = float(0) # initial condition\n",
    "dt = float(0.5) # time step\n",
    "n = int(2) # number of steps\n",
    "\n",
    "t,d = midpoint_method(t0, d0, dt, n)\n",
    "print(t,d)\n"
   ]
  },
  {
   "cell_type": "code",
   "execution_count": null,
   "id": "6ea0aaa1-7594-442f-9990-e263286ff3e9",
   "metadata": {},
   "outputs": [],
   "source": []
  }
 ],
 "metadata": {
  "kernelspec": {
   "display_name": "Python 3",
   "language": "python",
   "name": "python3"
  },
  "language_info": {
   "codemirror_mode": {
    "name": "ipython",
    "version": 3
   },
   "file_extension": ".py",
   "mimetype": "text/x-python",
   "name": "python",
   "nbconvert_exporter": "python",
   "pygments_lexer": "ipython3",
   "version": "3.8.8"
  }
 },
 "nbformat": 4,
 "nbformat_minor": 5
}
