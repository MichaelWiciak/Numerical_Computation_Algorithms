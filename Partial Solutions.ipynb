{
 "cells": [
  {
   "cell_type": "code",
   "execution_count": 1,
   "id": "237658cb-e77c-4b57-954c-e4b88eaffd38",
   "metadata": {},
   "outputs": [],
   "source": [
    "def secant(f, x0, x1, tol):\n",
    "    x = x1\n",
    "    it = 0\n",
    "    while abs(f(x)) > tol:   # iterate until less than or eq tol\n",
    "        x = x - f(x1) *(x1-x0) / (f(x1) - f(x0))  # apply one Newton iteration\n",
    "        x0 = x1\n",
    "        x1 = x\n",
    "        it = it + 1\n",
    "\n",
    "    return x, it"
   ]
  },
  {
   "cell_type": "code",
   "execution_count": 4,
   "id": "760b78ba-fbcc-43f0-a083-86bf70715680",
   "metadata": {},
   "outputs": [
    {
     "name": "stdout",
     "output_type": "stream",
     "text": [
      "The secant method: 3.0004913634209194 after 17 iterations\n"
     ]
    }
   ],
   "source": [
    "import numpy as np\n",
    "\n",
    "def f(x):\n",
    "    return x*x*x - 6.0*x*x +9.0*x\n",
    "\n",
    "x, it = secant(f, 4.0, 5.0, 1.e-6)\n",
    "print(f\"The secant method: {x} after {it} iterations\")\n",
    "np.testing.assert_allclose(abs(f(x)), 0.0, atol=1.0e-6)"
   ]
  },
  {
   "cell_type": "code",
   "execution_count": null,
   "id": "cb49fbee-0e85-4666-9418-4cb9878bf689",
   "metadata": {},
   "outputs": [],
   "source": [
    "# Do partial newton / modified newton / quasi newton"
   ]
  }
 ],
 "metadata": {
  "kernelspec": {
   "display_name": "Python 3",
   "language": "python",
   "name": "python3"
  },
  "language_info": {
   "codemirror_mode": {
    "name": "ipython",
    "version": 3
   },
   "file_extension": ".py",
   "mimetype": "text/x-python",
   "name": "python",
   "nbconvert_exporter": "python",
   "pygments_lexer": "ipython3",
   "version": "3.8.8"
  }
 },
 "nbformat": 4,
 "nbformat_minor": 5
}
