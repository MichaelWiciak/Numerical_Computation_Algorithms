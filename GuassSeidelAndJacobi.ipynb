{
 "cells": [
  {
   "cell_type": "raw",
   "id": "aead900f-0901-4214-bfca-41b22bdd880e",
   "metadata": {},
   "source": [
    "Gauss-Seidel iteration"
   ]
  },
  {
   "cell_type": "code",
   "execution_count": 2,
   "id": "ce51c7c4-6161-4c85-9fc2-7969384154bf",
   "metadata": {},
   "outputs": [],
   "source": [
    "import numpy as np\n",
    "\n",
    "def Guass_Seidel_iteration(A, b, max_iteration):\n",
    "    # To ensure that arrays are stored in double precision.\n",
    "    A = A.astype(np.float64)\n",
    "    b = b.astype(np.float64)\n",
    "\n",
    "    n=len(b) # dimensions of the linear system of equations\n",
    "        \n",
    "    for i in range(n):\n",
    "        if np.abs(A[i,i])<1.e-15 :\n",
    "            print('Diagonal element (%f %f)is zero!' % (i,i))\n",
    "            return\n",
    "        \n",
    "    P=np.zeros([n,n])    # matrix P = D^{-1}(L+U)\n",
    "    p=np.zeros(n)        # vector p = D^{-1} b\n",
    "    for i in range(n):\n",
    "        p[i]=b[i]/A[i,i] \n",
    "        for j in range(n):\n",
    "             P[i,j] = A[i,j]/A[i,i]\n",
    "                  \n",
    "        P[i,i] = 0\n",
    "        \n",
    "    \n",
    "    #create a new array to store the results, initialised as zero\n",
    "    x = np.zeros(n)\n",
    "    for it in range(max_iteration):\n",
    "        for i in range(n):\n",
    "            x[i]=p[i]\n",
    "            for j in range(n):     \n",
    "                x[i] = x[i] - P[i,j]*x[j]   \n",
    "        \n",
    "    return x"
   ]
  },
  {
   "cell_type": "raw",
   "id": "697d4204-2e6b-4979-b182-d0b548db9d59",
   "metadata": {},
   "source": [
    "Jacobi iteration"
   ]
  },
  {
   "cell_type": "code",
   "execution_count": 3,
   "id": "f39222bc-510f-4bdd-a48b-d40411a427b9",
   "metadata": {},
   "outputs": [],
   "source": [
    "import numpy as np\n",
    "\n",
    "def Jacobi_iteration(A, b, max_iteration):\n",
    "    # To ensure that arrays are stored in double precision.\n",
    "    A = A.astype(np.float64)\n",
    "    b = b.astype(np.float64)\n",
    "\n",
    "    n=len(b) # dimensions of the linear system of equations\n",
    "        \n",
    "    for i in range(n):\n",
    "        if np.abs(A[i,i])<1.e-15 :\n",
    "            print('Diagonal element (%f %f)is zero!' % (i,i))\n",
    "            return\n",
    "        \n",
    "    P=np.zeros([n,n])    # matrix P = D^{-1}(L+U)\n",
    "    p=np.zeros(n)        # vector p = D^{-1} b\n",
    "    for i in range(n):\n",
    "        p[i]=b[i]/A[i,i] \n",
    "        for j in range(n):\n",
    "             P[i,j] = A[i,j]/A[i,i]\n",
    "                  \n",
    "        P[i,i] = 0\n",
    "        \n",
    "    \n",
    "    #create a new array to store the results, initialised as zero\n",
    "    '''\n",
    "    x = np.zeros(n)\n",
    "    for i in range(max_iteration):\n",
    "        x = p - P.dot(x)\n",
    "    '''\n",
    "    x = np.zeros(n)\n",
    "    for it in range(max_iteration):\n",
    "        for i in range(n):\n",
    "            b[i]=p[i]\n",
    "            for j in range(n):     \n",
    "                b[i] = b[i] - P[i,j]*x[j]        \n",
    "        x=b.copy()\n",
    "        \n",
    "    return x"
   ]
  },
  {
   "cell_type": "code",
   "execution_count": null,
   "id": "374eda5b-92fc-4054-9c6e-d5a4fcc2af4f",
   "metadata": {},
   "outputs": [],
   "source": [
    "Testing:"
   ]
  },
  {
   "cell_type": "code",
   "execution_count": 4,
   "id": "cc52ab9f-71e3-4b49-be15-3f9ea35efca9",
   "metadata": {},
   "outputs": [
    {
     "name": "stdout",
     "output_type": "stream",
     "text": [
      "Solution by numpy solver: [1. 1.]\n",
      "Solution by Jacobi iteration:  [0.9375 0.9375]\n",
      "Error:  [-0.0625 -0.0625]\n",
      "Residual:  [-0.1875 -0.1875]\n",
      "Solution by Guass Seidel iteration:  [1.0078125  0.99609375]\n",
      "Error:  [ 0.0078125  -0.00390625]\n",
      "Residual:  [0.01171875 0.        ]\n"
     ]
    }
   ],
   "source": [
    "# Test different linear solvers starting from the above two-dimensional linear system\n",
    "A = np.array([[2, 1], [1, 2]])\n",
    "b = np.array([3, 3])\n",
    "x_exact = np.array([1,1])\n",
    "\n",
    "# numpy linear solver\n",
    "x0 = np.linalg.solve(A,b)\n",
    "print(\"Solution by numpy solver:\", x0)\n",
    "\n",
    "x = Jacobi_iteration(A, b, 4)\n",
    "print(\"Solution by Jacobi iteration: \",x)\n",
    "print(\"Error: \", x - x_exact)\n",
    "print(\"Residual: \", np.matmul(A,x)-b)\n",
    "\n",
    "x = Guass_Seidel_iteration(A, b, 4)\n",
    "print(\"Solution by Guass Seidel iteration: \",x)\n",
    "print(\"Error: \", x - x_exact)\n",
    "print(\"Residual: \", np.matmul(A,x)-b)"
   ]
  },
  {
   "cell_type": "code",
   "execution_count": 5,
   "id": "a4d5ea60-1474-4102-a6c8-f0d5d51a075f",
   "metadata": {},
   "outputs": [
    {
     "name": "stdout",
     "output_type": "stream",
     "text": [
      "Solution by numpy solver: [0.9244595  0.31826746 0.15668124 0.14340388]\n",
      "Solution by Jacobi iteration:  [0.92445478 0.31826793 0.15668179 0.1434019 ]\n",
      "Residual:  [-8.49516542e-05 -9.70662051e-06 -8.42150747e-07 -1.14962922e-04]\n",
      "Solution by Guass Seidel iteration:  [0.9244595  0.31826746 0.15668124 0.14340388]\n",
      "Residual:  [6.37108144e-11 3.58131302e-11 7.74846853e-12 0.00000000e+00]\n"
     ]
    }
   ],
   "source": [
    "A = np.array([[-10, 2, 0, 67], [-2, 50, -77, 1.e-5], [1, 7, 30, 8], [-10, -7, 0.001, 80]])\n",
    "b = np.array([1, 2, 9, 0])\n",
    "\n",
    "# numpy linear solvers\n",
    "x0 = np.linalg.solve(A,b)\n",
    "#x0 = np.linalg.inv(A).dot(b)\n",
    "print(\"Solution by numpy solver:\", x0)\n",
    "\n",
    "x = Jacobi_iteration(A, b, 100)\n",
    "print(\"Solution by Jacobi iteration: \",x)\n",
    "print(\"Residual: \", np.matmul(A,x)-b)\n",
    "\n",
    "x = Guass_Seidel_iteration(A, b, 100)\n",
    "print(\"Solution by Guass Seidel iteration: \",x)\n",
    "print(\"Residual: \", np.matmul(A,x)-b)"
   ]
  },
  {
   "cell_type": "code",
   "execution_count": 6,
   "id": "b48db437-1290-424d-9eb2-7e731f7471b3",
   "metadata": {},
   "outputs": [
    {
     "name": "stdout",
     "output_type": "stream",
     "text": [
      "Solution by numpy solver: [-0.00944348  0.01784439  0.02618375  0.02333752  0.00883135  0.02643555\n",
      "  0.03563246 -0.0190357   0.03602053  0.04808033  0.06701193  0.01090793\n",
      "  0.05512462  0.06905197  0.02985699  0.05727915 -0.01013716 -0.00612309\n",
      "  0.07606511  0.04751625]\n",
      "Solution by Jacobi iteration:  [-0.00944348  0.01784439  0.02618375  0.02333752  0.00883135  0.02643555\n",
      "  0.03563246 -0.0190357   0.03602053  0.04808033  0.06701193  0.01090793\n",
      "  0.05512462  0.06905197  0.02985699  0.05727915 -0.01013716 -0.00612309\n",
      "  0.07606511  0.04751625]\n",
      "Residual:  [-2.77555756e-17 -5.55111512e-17  1.11022302e-16 -5.55111512e-17\n",
      "  0.00000000e+00  0.00000000e+00 -2.22044605e-16  4.16333634e-17\n",
      "  0.00000000e+00  0.00000000e+00 -3.33066907e-16 -5.55111512e-17\n",
      "  0.00000000e+00 -2.22044605e-16 -5.55111512e-17  0.00000000e+00\n",
      "  2.08166817e-17 -1.38777878e-17 -1.11022302e-16  0.00000000e+00]\n",
      "Solution by Guass Seidel iteration:  [-0.00944348  0.01784439  0.02618375  0.02333752  0.00883135  0.02643555\n",
      "  0.03563246 -0.0190357   0.03602053  0.04808033  0.06701193  0.01090793\n",
      "  0.05512462  0.06905197  0.02985699  0.05727915 -0.01013716 -0.00612309\n",
      "  0.07606511  0.04751625]\n",
      "Residual:  [-2.77555756e-17 -5.55111512e-17  1.11022302e-16 -5.55111512e-17\n",
      "  0.00000000e+00  0.00000000e+00 -2.22044605e-16  4.16333634e-17\n",
      "  0.00000000e+00  0.00000000e+00 -3.33066907e-16 -5.55111512e-17\n",
      "  0.00000000e+00 -2.22044605e-16 -5.55111512e-17  0.00000000e+00\n",
      "  2.08166817e-17 -1.38777878e-17 -1.11022302e-16  0.00000000e+00]\n"
     ]
    }
   ],
   "source": [
    "n=20\n",
    "B = np.random.rand(n, n)\n",
    "eps = 10\n",
    "A = eps * np.eye(n) + B * B.T\n",
    "b = np.random.rand(n)\n",
    "\n",
    "# numpy linear solvers\n",
    "x0 = np.linalg.solve(A,b)\n",
    "#x0 = np.linalg.inv(A).dot(b)\n",
    "print(\"Solution by numpy solver:\", x0)\n",
    "\n",
    "x = Jacobi_iteration(A, b, 100)\n",
    "print(\"Solution by Jacobi iteration: \",x)\n",
    "print(\"Residual: \", np.matmul(A,x)-b)\n",
    "\n",
    "x = Guass_Seidel_iteration(A, b, 100)\n",
    "print(\"Solution by Guass Seidel iteration: \",x)\n",
    "print(\"Residual: \", np.matmul(A,x)-b)"
   ]
  },
  {
   "cell_type": "code",
   "execution_count": null,
   "id": "6f428fd7-75d3-4714-8cae-dbce505d17d0",
   "metadata": {},
   "outputs": [],
   "source": []
  }
 ],
 "metadata": {
  "kernelspec": {
   "display_name": "Python 3",
   "language": "python",
   "name": "python3"
  },
  "language_info": {
   "codemirror_mode": {
    "name": "ipython",
    "version": 3
   },
   "file_extension": ".py",
   "mimetype": "text/x-python",
   "name": "python",
   "nbconvert_exporter": "python",
   "pygments_lexer": "ipython3",
   "version": "3.8.8"
  }
 },
 "nbformat": 4,
 "nbformat_minor": 5
}
