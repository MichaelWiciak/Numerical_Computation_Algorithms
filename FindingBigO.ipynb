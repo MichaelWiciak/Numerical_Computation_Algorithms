{
 "cells": [
  {
   "cell_type": "code",
   "execution_count": 52,
   "id": "c99cdfd6-b08f-47f4-873b-59fee375cb70",
   "metadata": {},
   "outputs": [
    {
     "name": "stdout",
     "output_type": "stream",
     "text": [
      "Comparissons: 1 Size of A: 2\n",
      "Comparissons: 4 Size of A: 4\n",
      "Comparissons: 10 Size of A: 8\n",
      "Comparissons: 22 Size of A: 16\n",
      "Comparissons: 46 Size of A: 32\n",
      "Comparissons: 94 Size of A: 64\n",
      "Comparissons: 190 Size of A: 128\n",
      "Comparissons: 382 Size of A: 256\n",
      "Comparissons: 766 Size of A: 512\n",
      "Comparissons: 1534 Size of A: 1024\n",
      "Comparissons: 3070 Size of A: 2048\n",
      "Comparissons: 6142 Size of A: 4096\n",
      "Comparissons: 12286 Size of A: 8192\n",
      "Comparissons: 24574 Size of A: 16384\n",
      "Comparissons: 49150 Size of A: 32768\n"
     ]
    }
   ],
   "source": [
    "import math\n",
    "import random\n",
    "x = 0\n",
    "number=0\n",
    "\n",
    "def MaxMin(A):\n",
    "    global x\n",
    "    x+=1\n",
    "    local = x\n",
    "    #print(\"Routine \", x, A)\n",
    "    global number\n",
    "    r = len(A)-1\n",
    "    if len(A)==1:\n",
    "        #print(\"Routine \", local, \" returns: \", A[0], A[0])\n",
    "        return A[0], A[0]\n",
    "    if len(A)==2:\n",
    "        number+=1\n",
    "        if (A[0]>A[r]):\n",
    "            #print(\"Routine \", local, \" returns: \", A[0], A[r])\n",
    "            return A[0], A[r]\n",
    "        else:\n",
    "            #print(\"Routine \", local, \" returns: \", A[r], A[0])\n",
    "            return (A[r], A[0])\n",
    "    mid = math.floor((len(A)+1)/2)\n",
    "    MaxLeft, MinLeft = MaxMin(A[0:mid])\n",
    "    MaxRight, MinRight = MaxMin(A[mid:r+1])\n",
    "    number+=1\n",
    "    if (MaxLeft > MaxRight):\n",
    "        Max = MaxLeft\n",
    "    else:\n",
    "        Max = MaxRight\n",
    "    number+=1\n",
    "    if MinLeft < MinRight:\n",
    "        Min=MinLeft\n",
    "    else:\n",
    "        Min= MinRight\n",
    "    #print(\"Routine \", local, \" returns: \", Max,Min)\n",
    "    return (Max,Min)\n",
    "\n",
    "def test():\n",
    "    A=[]\n",
    "    maxInt = 2**15\n",
    "    start = 2\n",
    "    while start<=maxInt:\n",
    "        for i in range(0, start):\n",
    "            A.append(random.randint(1,1000000))\n",
    "        MaxMin(A)\n",
    "        global number\n",
    "        print(\"Comparissons:\", number, \"Size of A:\", len(A))\n",
    "        start*=2\n",
    "        A=[]\n",
    "        number = 0\n",
    "    \n",
    "test()\n"
   ]
  },
  {
   "cell_type": "code",
   "execution_count": null,
   "id": "551c6551-3e55-427d-b067-cef01c9581d8",
   "metadata": {},
   "outputs": [],
   "source": []
  },
  {
   "cell_type": "code",
   "execution_count": 54,
   "id": "cd886782-950a-4bd7-a456-dc2dd1fb18e0",
   "metadata": {},
   "outputs": [
    {
     "name": "stdout",
     "output_type": "stream",
     "text": [
      "(8, 2)\n",
      "1: 3 8\n"
     ]
    }
   ],
   "source": [
    "number = 0\n",
    "finalNumber = 0\n",
    "import math\n",
    "\n",
    "def SeparateCandidates(A):\n",
    "    \n",
    "    q = len(A)-1+1\n",
    "    \n",
    "    for i in range(1, int(q/2)):\n",
    "        global number\n",
    "        number +=1\n",
    "        if (A[i+1] < A[len(A)-1-i]):\n",
    "            tmp = A[i+1];\n",
    "            A[i+1] = A[len(A)-1-i]\n",
    "            A[len(A)-1-i] = tmp\n",
    "    return A\n",
    "\n",
    "def MaxMin1(A):\n",
    "    \n",
    "    global number\n",
    "    global finalNumber\n",
    "    A = SeparateCandidates(A)\n",
    "    finalNumber = number\n",
    "    candidateQuantity = int(len(A)/2)\n",
    "    \n",
    "    while candidateQuantity >= 2:\n",
    "        A = SeparateCandidates(A[0:candidateQuantity])\n",
    "        A = SeparateCandidates(A[len(A)-candidateQuantity: len(A)])\n",
    "        candidateQuantity = int(candidateQuantity/2)\n",
    "    \n",
    "    return A[0], A[len(A)-1]\n",
    "\n",
    "\n",
    "def test():\n",
    "    A = [8,2,3,9,1,7,6,5]\n",
    "    print(MaxMin1(A))\n",
    "    print(\"1:\", finalNumber, len(A))\n",
    "    \n",
    "test()"
   ]
  },
  {
   "cell_type": "code",
   "execution_count": 55,
   "id": "9e5d70c0-15ed-4acf-a61e-5dac44f47765",
   "metadata": {},
   "outputs": [
    {
     "name": "stdout",
     "output_type": "stream",
     "text": [
      "382\n"
     ]
    }
   ],
   "source": [
    "def testRec(n):\n",
    "    if (n==1):\n",
    "        return 0\n",
    "    if (n==2):\n",
    "        return 1\n",
    "    return testRec(int(n/2)) + testRec(int(n/2)) + 2\n",
    "\n",
    "def aTest():\n",
    "    n = 256\n",
    "    print(testRec(256))\n",
    "    \n",
    "aTest()"
   ]
  },
  {
   "cell_type": "code",
   "execution_count": null,
   "id": "627a560d-1e6d-48ae-9adf-6ea7729db60b",
   "metadata": {},
   "outputs": [],
   "source": []
  }
 ],
 "metadata": {
  "kernelspec": {
   "display_name": "Python 3",
   "language": "python",
   "name": "python3"
  },
  "language_info": {
   "codemirror_mode": {
    "name": "ipython",
    "version": 3
   },
   "file_extension": ".py",
   "mimetype": "text/x-python",
   "name": "python",
   "nbconvert_exporter": "python",
   "pygments_lexer": "ipython3",
   "version": "3.8.8"
  }
 },
 "nbformat": 4,
 "nbformat_minor": 5
}
