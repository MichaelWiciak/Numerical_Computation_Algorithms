{
 "cells": [
  {
   "cell_type": "raw",
   "id": "e025705f-ce6f-421b-97d1-73773a7535a0",
   "metadata": {},
   "source": [
    "Proof by Induction. n<=2^n for n>=1\n",
    "\n",
    "Step 1:\n",
    "n = 1\n",
    "1 < 2\n",
    "\n",
    "Step 2:\n",
    "Assume n < 2^n for where n = k and k >= 1\n",
    "\n",
    "Step 3:\n",
    "Prove n<2^n holds for n = k+1 and k>= 1. \n",
    "\n",
    "k<2^k\n",
    "2k<2^(k+1)\n",
    "\n",
    "k > 1 so k+k > 1 + k\n",
    "1+k < 2k\n",
    "\n",
    "So:\n",
    "1+k < 2^(k+1)\n",
    "\n",
    "Hence, it holds"
   ]
  },
  {
   "cell_type": "raw",
   "id": "fa9d06c7-8b99-4186-8fc2-f361e11baaa6",
   "metadata": {},
   "source": [
    "Proof by Induction. n^2<=2^n for n>=4\n",
    "\n",
    "Step 1:\n",
    "n = 4\n",
    "16 =< 16\n",
    "\n",
    "Step 2:\n",
    "Assume n^2 =< 2^n for where n = k and k >= 4\n",
    "\n",
    "Step 3:\n",
    "Prove n^2<2^n holds for n = k+1 and k>= 4. \n",
    "\n",
    "k^2<2^k\n",
    "2k^2 < 2^(k+1)\n",
    "\n",
    "k>=4 so k^2 > 4k\n",
    "2k^2 > 2*4k\n",
    "8(k+1)-8 < 2k^2\n",
    "\n",
    "So:\n",
    "8(k+1)-8 < 2^(k+1)\n",
    "\n",
    "Hence, it holds"
   ]
  },
  {
   "cell_type": "raw",
   "id": "ad6d5cce-204e-47dc-a0ad-3ca273f7f586",
   "metadata": {},
   "source": [
    "Proof by Induction. log2(n)<=n for n>=1\n",
    "\n",
    "Step 1:\n",
    "n = 1\n",
    "0 < 1\n",
    "\n",
    "Step 2:\n",
    "Assume  log2(n)<=n for where n = k and k >= 1\n",
    "\n",
    "Step 3:\n",
    "Prove log2(n)<=n  holds for n = k +1 and k >= 1\n",
    "\n",
    "$log2(k) + log2(2) < k + log2(2)$\n",
    "log2(2k) < k+1\n",
    "\n",
    "k > 1\n",
    "k+k > 1 + k\n",
    "2k > k+1\n",
    "2^(2k) > 2^(k+1)\n",
    "log2(2k) > log2(k+1)\n",
    "\n",
    "So:\n",
    "log2(k+1) < k+1\n",
    "\n",
    "Hence, it holds. "
   ]
  },
  {
   "cell_type": "code",
   "execution_count": 14,
   "id": "c6b21713-0c5a-45fe-b91b-1b155b8ce7f5",
   "metadata": {},
   "outputs": [
    {
     "name": "stdout",
     "output_type": "stream",
     "text": [
      "l | r | mid | K==A[mid] | K<A[mid]\n",
      "------|-----|-----|-----|-----|\n",
      "0 | 12| 6 | 0 | 0\n",
      "7 | 12| 9 | 0 | 1\n",
      "7 | 8| 7 | 0 | 0\n",
      "8 | 8| 8 | 0 | 1\n"
     ]
    }
   ],
   "source": [
    "import math\n",
    "\n",
    "def binarySearch(A, k):\n",
    "    \"\"\"\n",
    "    The algorithm implements iterative binary search\n",
    "    Input: an array A[l..r] sorted in ascending order, defined by its left and right indices l and r; a search key K\n",
    "    Output: an index of the array’s element that is equal to K, // or –1 if there is no such element\n",
    "    \"\"\"\n",
    "    l = 0\n",
    "    r = len(A)-1\n",
    "    count = 0\n",
    "    print(\"l | r | mid | K==A[mid] | K<A[mid]\\n------|-----|-----|-----|-----|\")\n",
    "    while l<= r:\n",
    "        print(f\"{l:.0f} | {r:.0f}\", end='')\n",
    "        mid = math.floor((l+r)/2)\n",
    "        print(f\"| {mid:.0f} | {k == A[mid]:.0f} | {k<A[mid]:.0f}\")\n",
    "        if k == A[mid]:\n",
    "            return mid\n",
    "        else:\n",
    "            if k<A[mid]:\n",
    "                r = mid-1\n",
    "            else:\n",
    "                l = mid+1\n",
    "    return -1\n",
    "\n",
    "def test():\n",
    "    A = [11,12,13,16,19,20,25,27,30,35,39,41,46]\n",
    "    binarySearch(A, 29)\n",
    "    \n",
    "test()"
   ]
  },
  {
   "cell_type": "markdown",
   "id": "46c40919-01fc-4ae4-a993-157d68cc7cb2",
   "metadata": {},
   "source": [
    "l | r | mid | K==A[mid] | K<A[mid]\n",
    "------|-----|-----|-----|-----|\n",
    "0 | 12| 6 | 0 | 0\n",
    "7 | 12| 9 | 0 | 1\n",
    "7 | 8| 7 | 0 | 0\n",
    "8 | 8| 8 | 0 | 1"
   ]
  },
  {
   "cell_type": "raw",
   "id": "81ac433b-3bf7-402c-9e5b-dacc9b77f879",
   "metadata": {},
   "source": [
    "0 = False, 1 = True"
   ]
  },
  {
   "cell_type": "code",
   "execution_count": 22,
   "id": "17590c33-ea20-4883-8bc4-d20b64e1549e",
   "metadata": {},
   "outputs": [
    {
     "name": "stdout",
     "output_type": "stream",
     "text": [
      "\t [11, 12, 13, 16, 19, 20, 25, 27, 30, 35, 39, 41, 46]\n",
      "\t [27, 30, 35, 39, 41]\n",
      "\t [27]\n",
      "\t []\n",
      "[27] -1\n",
      "\t []\n",
      "[27, 30, 35, 39, 41] -1\n",
      "[11, 12, 13, 16, 19, 20, 25, 27, 30, 35, 39, 41, 46] -1\n",
      "\t [27, 30, 35, 39, 41]\n",
      "\t [27]\n",
      "\t []\n",
      "[27] -1\n",
      "\t []\n",
      "[27, 30, 35, 39, 41] -1\n"
     ]
    }
   ],
   "source": [
    "import math\n",
    "\n",
    "def binarySearch(A, k):\n",
    "    \"\"\"\n",
    "    The algorithm implements recursive binary search\n",
    "    Input: an array A[l..r] sorted in ascending order, defined by its left and right indices l and r;  a search key K\n",
    "    Output: an index of the array’s element that is equal to K or –1 if there is no such element\n",
    "    \"\"\"\n",
    "    l = 0\n",
    "    r = len(A)-1\n",
    "    \n",
    "    print(\"\\t\", A)\n",
    "    \n",
    "    if l>r:\n",
    "        return -1\n",
    "    else:\n",
    "        mid = math.floor((l+r)/2)\n",
    "        if k==A[mid]:\n",
    "            return mid\n",
    "        else:\n",
    "            if k<A[mid]: \n",
    "                temp = binarySearch(A[l:mid-1], k)\n",
    "                print(A, temp)\n",
    "                return temp\n",
    "            else:\n",
    "                temp = binarySearch(A[mid+1:r], k)\n",
    "                print(A, temp)\n",
    "                return binarySearch(A[mid+1:r], k)\n",
    "\n",
    "def test():\n",
    "    A = [11,12,13,16,19,20,25,27,30,35,39,41,46]\n",
    "    binarySearch(A, 29)\n",
    "\n",
    "test()"
   ]
  },
  {
   "cell_type": "raw",
   "id": "87fa7072-646a-4691-919f-413aea690c87",
   "metadata": {},
   "source": [
    "It doesn't work.\n",
    "It might work on sorted and rotated array but that depends. "
   ]
  },
  {
   "cell_type": "code",
   "execution_count": 33,
   "id": "3f18abaf-ae2b-4182-b761-548322be646f",
   "metadata": {},
   "outputs": [
    {
     "name": "stdout",
     "output_type": "stream",
     "text": [
      "1\n"
     ]
    }
   ],
   "source": [
    "\"\"\"\n",
    "int findFirstOccurrence(int A[], int n, int target)\n",
    "{\n",
    "    int low = 0, high = n - 1\n",
    "    while (low <= high)\n",
    "    {\n",
    "        int mid = low + (high - low)/2\n",
    "        if ((mid == 0 || A[mid - 1] < target) && A[mid] == target)\n",
    "            return mid\n",
    "        else if (target > A[mid])    \n",
    "            low = mid + 1\n",
    "        else\n",
    "            high = mid - 1\n",
    "    }\n",
    "    return -1\n",
    "}\n",
    "\"\"\"\n",
    "import math\n",
    "\n",
    "def findFirstOccurrenceBinarySearch(A, k):\n",
    "    l = 0\n",
    "    r = len(A)-1\n",
    "    while l<=r:\n",
    "        mid = l + math.floor((r-l)/2)\n",
    "        if (mid==0 or A[mid-1]<k) and A[mid]==k:\n",
    "            return mid\n",
    "        elif (k>A[mid]):\n",
    "            l = mid+1\n",
    "        else:\n",
    "            r = mid-1\n",
    "    return -1\n",
    "\n",
    "def test():\n",
    "    A = [11,12,12,12,12,12,12,12,12,12,12,12,12,12,12,12,13,16,19,20,25,27,30,35,39,41,46]\n",
    "    print(findFirstOccurrenceBinarySearch(A, 12))\n",
    "\n",
    "test()"
   ]
  },
  {
   "cell_type": "code",
   "execution_count": 50,
   "id": "b153fc14-74b8-43f1-9fb4-a433f0d1b6f3",
   "metadata": {},
   "outputs": [
    {
     "name": "stdout",
     "output_type": "stream",
     "text": [
      "15\n"
     ]
    }
   ],
   "source": [
    "\"\"\"\n",
    "int findLastOccurrence(int A[], int n, int target)\n",
    "{\n",
    "    int low = 0, high = n - 1\n",
    "    while (low <= high)\n",
    "    {\n",
    "        int mid = low + (high - low)/2\n",
    "        if ((mid == n - 1 || A[mid + 1] > target) && A[mid] == target)\n",
    "            return mid\n",
    "        else if (target < A[mid])    \n",
    "            high = mid - 1\n",
    "        else\n",
    "            low = mid + 1\n",
    "    }\n",
    "    return -1\n",
    "}\"\"\"\n",
    "import math\n",
    "\n",
    "def findLastOccurrenceBinarySearch(A, k):\n",
    "    l = 0\n",
    "    r = len(A)-1\n",
    "    while l<=r:\n",
    "        mid = l + math.floor((r-l)/2)\n",
    "        if (mid == len(A)-1 or A[mid+1]>k) and A[mid]==k:\n",
    "            return mid\n",
    "        elif (k<A[mid]):\n",
    "            r = mid-1\n",
    "        else:\n",
    "            l = mid+1\n",
    "    return -1\n",
    "\n",
    "def test():\n",
    "    A = [11,12,12,12,12,12,12,12,12,12,12,12,12,12,12,12,15,16]\n",
    "    print(findLastOccurrenceBinarySearch(A, 12))\n",
    "\n",
    "test()"
   ]
  },
  {
   "cell_type": "code",
   "execution_count": 51,
   "id": "0516cb61-7c3c-4567-95db-76fd12d4d6d7",
   "metadata": {},
   "outputs": [
    {
     "name": "stdout",
     "output_type": "stream",
     "text": [
      "[1, 15]\n"
     ]
    }
   ],
   "source": [
    "\"\"\"\n",
    "int[] findFirstLastOccurrence(int A[], int n, int target)\n",
    "{\n",
    "    int firstLast[2] = [-1, -1]\n",
    "    firstLast[0] = findFirstOccurrence(A, n, target)\n",
    "    firstLast[1] = findLastOccurrence(A, n, target)\n",
    "    return firstLast\n",
    "}\"\"\"\n",
    "\n",
    "def findFirstAndLastOccurenceBinarySearch(A, k):\n",
    "    output = [-1,-1]\n",
    "    output[0] = findFirstOccurrenceBinarySearch(A,k)\n",
    "    output[1] = findLastOccurrenceBinarySearch(A,k)\n",
    "    return output\n",
    "\n",
    "def test():\n",
    "    A = [11,12,12,12,12,12,12,12,12,12,12,12,12,12,12,12,15,16]\n",
    "    print(findFirstAndLastOccurenceBinarySearch(A, 12))\n",
    "\n",
    "test()"
   ]
  },
  {
   "cell_type": "code",
   "execution_count": 66,
   "id": "025587bc-3fc6-4bb1-b1e1-54015e7818c1",
   "metadata": {},
   "outputs": [
    {
     "name": "stdout",
     "output_type": "stream",
     "text": [
      "Start of new 1 subroutine:\t 6\n",
      "Start of new 2 subroutine:\t 4\n",
      "Start of new 3 subroutine:\t 2\n",
      "Start of new 4 subroutine:\t 0\n",
      "Subroutine 4 returns: 2\n",
      "Subroutine 3 returns: 5\n",
      "Subroutine 2 returns: 8\n",
      "Subroutine 1 returns: 11\n",
      "Output 11\n"
     ]
    }
   ],
   "source": [
    "global X\n",
    "X=-1\n",
    "\n",
    "def f(n):\n",
    "    \"\"\"\n",
    "    // Input: a non-negative integer n \n",
    "    // Output: ?\n",
    "    \"\"\"\n",
    "    global X\n",
    "    X += 1\n",
    "    localX= X+1\n",
    "    \n",
    "    print(\"Start of new\", localX, \"subroutine:\\t\", n)\n",
    "    if n==0 or n==1:\n",
    "        print(\"Subroutine\", localX, \"returns: 2\")\n",
    "        return 2\n",
    "    else:\n",
    "        temp = 3+f(n-2)\n",
    "        print(\"Subroutine\", localX, \"returns:\", temp)\n",
    "        return temp\n",
    "\n",
    "def test():\n",
    "    print(\"Output\", f(6))\n",
    "\n",
    "test()"
   ]
  },
  {
   "cell_type": "code",
   "execution_count": 68,
   "id": "9b01f2c2-48b7-40cf-8c12-d41b01add93a",
   "metadata": {},
   "outputs": [
    {
     "name": "stdout",
     "output_type": "stream",
     "text": [
      "Start of new 1 subroutine:\t 4\n",
      "Start of new 2 subroutine:\t 3\n",
      "Start of new 3 subroutine:\t 2\n",
      "Start of new 4 subroutine:\t 1\n",
      "Subroutine 4 returns: 1\n",
      "Subroutine 3 returns: 9\n",
      "Subroutine 2 returns: 36\n",
      "Subroutine 1 returns: 100\n",
      "Output 100\n"
     ]
    }
   ],
   "source": [
    "global X\n",
    "X=-1\n",
    "\n",
    "def S(n):\n",
    "    \"\"\"\n",
    "    //Input: a positive integer n \n",
    "    //Output: the sum of the first n cubes\n",
    "    \"\"\"\n",
    "    global X\n",
    "    X += 1\n",
    "    localX= X+1\n",
    "    \n",
    "    print(\"Start of new\", localX, \"subroutine:\\t\", n)\n",
    "    if n==1:\n",
    "        print(\"Subroutine\", localX, \"returns: 1\")\n",
    "        return 1\n",
    "    else:\n",
    "        temp = S(n-1)+n*n*n\n",
    "        print(\"Subroutine\", localX, \"returns:\", temp)\n",
    "        return temp\n",
    "\n",
    "def test():\n",
    "    print(\"Output\", S(4))\n",
    "\n",
    "test()"
   ]
  },
  {
   "cell_type": "raw",
   "id": "a5d35080-35af-468b-b060-c8ec453442e1",
   "metadata": {},
   "source": [
    "For each n, it opens n-1 additional subroutines in order to approach 1\n",
    "As such O(n).\n",
    "2 operations per iteration so 2(n-1) operations"
   ]
  },
  {
   "cell_type": "raw",
   "id": "c892218c-df9c-4cf9-88e7-3e25929d7ac1",
   "metadata": {},
   "source": [
    "Let M(n) be the number of multiplications executed for input n.\n",
    "M(n) = M(n-1)+2\n",
    "M(1) = 0\n",
    "\n",
    "M(n) = M(n-1)+2\n",
    "    = M(n-2)+2+2\n",
    "M(n-2) = M(n-3)+2\n",
    "...\n",
    "    = M(n-i)+2i\n",
    "    \n",
    "    = M(1) +2(n-1) = 2(n-1)\n",
    "    \n",
    " "
   ]
  }
 ],
 "metadata": {
  "kernelspec": {
   "display_name": "Python 3",
   "language": "python",
   "name": "python3"
  },
  "language_info": {
   "codemirror_mode": {
    "name": "ipython",
    "version": 3
   },
   "file_extension": ".py",
   "mimetype": "text/x-python",
   "name": "python",
   "nbconvert_exporter": "python",
   "pygments_lexer": "ipython3",
   "version": "3.8.8"
  },
  "toc-autonumbering": true
 },
 "nbformat": 4,
 "nbformat_minor": 5
}
