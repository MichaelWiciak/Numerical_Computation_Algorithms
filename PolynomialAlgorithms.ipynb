{
 "cells": [
  {
   "cell_type": "raw",
   "id": "6e6703a2-85d6-4f74-a90c-b1618823b615",
   "metadata": {},
   "source": [
    "Exercise 2"
   ]
  },
  {
   "cell_type": "code",
   "execution_count": 49,
   "id": "3e1cc92c-4a6c-48b8-b792-1c3aeca5eaf1",
   "metadata": {},
   "outputs": [
    {
     "data": {
      "image/png": "[encoded data removed]",
      "text/plain": [
       "<Figure size 432x288 with 1 Axes>"
      ]
     },
     "metadata": {
      "needs_background": "light"
     },
     "output_type": "display_data"
    }
   ],
   "source": [
    "import numpy as np\n",
    "import math \n",
    "import matplotlib.pyplot as plt\n",
    "\n",
    "def decToBin(decNumber, console=False):\n",
    "    \"\"\"\n",
    "    Input: a decimal positive integer decNumber\n",
    "    Output: array A containing the digits of the binary representation\n",
    "    \"\"\"\n",
    "    i = 0\n",
    "    A=[]\n",
    "    if not(console):\n",
    "        print(\"i | decNumber (at begging of the loop) | A[i] | decNumber (at the end)\\n------|-----|-----|-----|\")\n",
    "    else:\n",
    "        count = 0\n",
    "    while decNumber>0:\n",
    "        if not(console):\n",
    "            print(f\"{i:.0f} | {decNumber:.0f}\", end='')\n",
    "        A.append(decNumber % 2)\n",
    "        decNumber = math.floor(decNumber/2)\n",
    "        if not(console):\n",
    "            print(f\"| {A[i]:.0f} | {decNumber:.0f}\")\n",
    "        else:\n",
    "            count += 1\n",
    "        i += 1\n",
    "    A.reverse()\n",
    "    if (console):\n",
    "        return count\n",
    "    return A\n",
    "\n",
    "\n",
    "def q2_1():\n",
    "    decToBin(25)\n",
    "\n",
    "def graphDrawing():\n",
    "    x = []\n",
    "    y = []\n",
    "    for i in range(1,100000, 100):\n",
    "        x.append(i)\n",
    "        y.append(decToBin(i, True))\n",
    "    plt.plot(x, y)\n",
    "    plt.xlabel('Size')\n",
    "    plt.ylabel('Number of Iterations')\n",
    "    plt.title('Halving iterations')\n",
    "    plt.show()\n",
    "\n",
    "graphDrawing()"
   ]
  },
  {
   "cell_type": "markdown",
   "id": "f6e8783c-1a54-4eee-8d4d-cd8a60187c1e",
   "metadata": {},
   "source": [
    "i | decNumber (at begging of the loop) | A[i] | decNumber (at the end)\n",
    "------|-----|-----|-----|\n",
    "0 | 25| 1 | 12\n",
    "1 | 12| 0 | 6\n",
    "2 | 6| 0 | 3\n",
    "3 | 3| 1 | 1\n",
    "4 | 1| 1 | 0"
   ]
  },
  {
   "cell_type": "raw",
   "id": "d6243d99-e810-4c79-9f31-b378db09c060",
   "metadata": {},
   "source": [
    "2.2) \n",
    "\n"
   ]
  },
  {
   "cell_type": "code",
   "execution_count": 68,
   "id": "7519dad5-2d3a-4122-80f4-782585a74988",
   "metadata": {},
   "outputs": [
    {
     "data": {
      "image/png": "[encoded data removed]",
      "text/plain": [
       "<Figure size 432x288 with 1 Axes>"
      ]
     },
     "metadata": {
      "needs_background": "light"
     },
     "output_type": "display_data"
    }
   ],
   "source": [
    "import random\n",
    "import time\n",
    "\n",
    "def evaluatingPolynomial(A, x, console=False):\n",
    "    \"\"\"\n",
    "    Design two algorithms for evaluating a polynomial\n",
    "    𝑝(𝑥)=𝑎𝑛𝑥𝑛 +𝑎𝑛−1𝑥𝑛−1 +⋯+𝑎2𝑥2 +𝑎1𝑥+𝑎0,\n",
    "    where 𝑛 + 1 coefficients 𝑎𝑛, 𝑎𝑛−1, ... , 𝑎2, 𝑎1, 𝑎0 are stored in an array 𝐴[0. . 𝑛] and 𝑥 is an input parameter.\n",
    "    \"\"\"\n",
    "    output=0\n",
    "    for i in range(0,len(A),1):\n",
    "        output += A[i]*(x**(len(A)-1-i))\n",
    "    return output\n",
    "\n",
    "def testEvaluatingPolynomial():\n",
    "    print(evaluatingPolynomial([2,-1,3,1,-5], 5))\n",
    "    # should be: 1200\n",
    "\n",
    "\n",
    "def evaluatingPolynomialHornerRule(A, x, console=False):\n",
    "    \"\"\"\n",
    "    For the second algorithm, use the following representation known as Horner’s rule:\n",
    "    𝑝(𝑥) = (... ((𝑎𝑛𝑥 + 𝑎𝑛−1)𝑥 + 𝑎𝑛−2)𝑥 + ⋯ + 𝑎1)𝑥 + 𝑎0. For example, 𝑝(𝑥) = 2𝑥4 − 𝑥3 + 3𝑥2 + 𝑥 − 5 = (((2𝑥 − 1)𝑥 + 3)𝑥 + 1) 𝑥 − 5.\n",
    "    \"\"\"\n",
    "    output=0\n",
    "    for i in range(0,len(A)-1,1):\n",
    "        output += (A[i])\n",
    "        output *= x\n",
    "    output += A[len(A)-1]\n",
    "    return output\n",
    "\n",
    "def testEvaluatingPolynomialHornerRule():\n",
    "    print(evaluatingPolynomialHornerRule([2,-1,3,1,-5], 5))\n",
    "    # should be: 1200\n",
    "    \n",
    "def testPerformaneOfBothAlgorithms():\n",
    "    A=[]\n",
    "    x= random.randint(1,10)\n",
    "    \n",
    "    xAxis = []\n",
    "    yAxisBasic = []\n",
    "    yAxisHorner = []\n",
    "    for i in range(1, 1000):\n",
    "        A.append(random.randint(-10, 10))\n",
    "        if (i%10==0):\n",
    "            xAxis.append(i)\n",
    "            t1 = time.time()\n",
    "            evaluatingPolynomial(A, x)\n",
    "            t2 = time.time()\n",
    "            yAxisBasic.append(t2-t1)\n",
    "            t3 = time.time()\n",
    "            evaluatingPolynomialHornerRule(A, x)\n",
    "            t4 = time.time()\n",
    "            yAxisHorner.append(t4-t3)\n",
    "    \n",
    "    plt.plot(xAxis,yAxisBasic, label=\"Basic\")\n",
    "    plt.plot(xAxis, yAxisHorner, label=\"Horner\")\n",
    "    plt.xlabel('Size')\n",
    "    plt.ylabel('Time Taken')\n",
    "    plt.title('Halving iterations')\n",
    "    plt.legend()\n",
    "    plt.show()\n",
    "\n",
    "testPerformaneOfBothAlgorithms()"
   ]
  },
  {
   "cell_type": "code",
   "execution_count": null,
   "id": "92c9b17d-3326-433d-a585-0cdce8dfe116",
   "metadata": {},
   "outputs": [],
   "source": []
  },
  {
   "cell_type": "code",
   "execution_count": null,
   "id": "83876a66-cbd1-4c8d-b1c5-04bea7112f68",
   "metadata": {},
   "outputs": [],
   "source": []
  }
 ],
 "metadata": {
  "kernelspec": {
   "display_name": "Python 3",
   "language": "python",
   "name": "python3"
  },
  "language_info": {
   "codemirror_mode": {
    "name": "ipython",
    "version": 3
   },
   "file_extension": ".py",
   "mimetype": "text/x-python",
   "name": "python",
   "nbconvert_exporter": "python",
   "pygments_lexer": "ipython3",
   "version": "3.8.8"
  }
 },
 "nbformat": 4,
 "nbformat_minor": 5
}
